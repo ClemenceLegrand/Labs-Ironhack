{
 "cells": [
  {
   "cell_type": "markdown",
   "metadata": {},
   "source": [
    "# Intrduction to NumPy\n",
    "\n",
    "\n",
    "#### 1. Import NumPy under the name np."
   ]
  },
  {
   "cell_type": "code",
   "execution_count": 1,
   "metadata": {},
   "outputs": [],
   "source": [
    "# your code here\n",
    "import numpy as np"
   ]
  },
  {
   "cell_type": "markdown",
   "metadata": {},
   "source": [
    "#### 2. Print your NumPy version."
   ]
  },
  {
   "cell_type": "code",
   "execution_count": 2,
   "metadata": {},
   "outputs": [
    {
     "data": {
      "text/plain": [
       "'1.21.5'"
      ]
     },
     "execution_count": 2,
     "metadata": {},
     "output_type": "execute_result"
    }
   ],
   "source": [
    "# your code here\n",
    "np.__version__"
   ]
  },
  {
   "cell_type": "markdown",
   "metadata": {},
   "source": [
    "#### 3. Generate a 2x3x5 3-dimensional array with random values. Assign the array to variable *a*.\n",
    "**Challenge**: there are at least three easy ways that use numpy to generate random arrays. How many ways can you find?"
   ]
  },
  {
   "cell_type": "code",
   "execution_count": 9,
   "metadata": {},
   "outputs": [
    {
     "name": "stdout",
     "output_type": "stream",
     "text": [
      "[[[4.92046676e-01 6.14626759e-04 9.62891301e-01 8.45400644e-01\n",
      "   5.92445523e-01]\n",
      "  [3.92670411e-01 9.48438599e-01 3.33856024e-01 5.61648154e-01\n",
      "   2.31000485e-01]\n",
      "  [8.44055396e-02 9.43575628e-01 6.62655839e-03 8.48606064e-03\n",
      "   1.15884606e-01]]\n",
      "\n",
      " [[8.77608494e-01 1.83047926e-01 9.38596353e-01 6.57103228e-01\n",
      "   5.90911769e-03]\n",
      "  [5.40273906e-01 4.96035272e-01 7.94610246e-01 4.87234845e-01\n",
      "   6.08920785e-01]\n",
      "  [3.37616455e-01 1.95515031e-02 2.94155273e-01 7.23656038e-01\n",
      "   5.72859287e-01]]]\n"
     ]
    }
   ],
   "source": [
    "# Method 1\n",
    "a=np.random.random((2,3,5))\n",
    "print(a)"
   ]
  },
  {
   "cell_type": "code",
   "execution_count": 17,
   "metadata": {},
   "outputs": [
    {
     "name": "stdout",
     "output_type": "stream",
     "text": [
      "[[[8 1 6 3 0]\n",
      "  [3 7 1 8 6]\n",
      "  [4 6 2 3 5]]\n",
      "\n",
      " [[5 5 0 6 7]\n",
      "  [6 5 9 5 1]\n",
      "  [3 8 9 3 8]]]\n"
     ]
    }
   ],
   "source": [
    "# Method 2\n",
    "a=np.random.randint(0,10,(2,3,5))\n",
    "print(a)"
   ]
  },
  {
   "cell_type": "code",
   "execution_count": 19,
   "metadata": {},
   "outputs": [
    {
     "name": "stdout",
     "output_type": "stream",
     "text": [
      "[[[-1.03365503 -0.77414867 -0.45237794  0.99226388  1.79292724]\n",
      "  [-0.30213482  0.20536299 -1.42829869  1.41748316 -0.23818226]\n",
      "  [-1.1054589  -1.12271279  0.13707877 -1.74011535 -0.34123831]]\n",
      "\n",
      " [[ 0.05359258  1.39871869  0.02409954  2.39843378 -0.57529365]\n",
      "  [-0.47997067  0.64679979 -0.88228293  1.4601854   0.34386062]\n",
      "  [-0.70941578 -0.55417259 -2.05011002  0.94858591 -0.01145194]]]\n"
     ]
    }
   ],
   "source": [
    "# Method 3\n",
    "a=np.random.randn(2,3,5)\n",
    "print(a)"
   ]
  },
  {
   "cell_type": "markdown",
   "metadata": {},
   "source": [
    "#### 4. Print *a*.\n"
   ]
  },
  {
   "cell_type": "code",
   "execution_count": 20,
   "metadata": {},
   "outputs": [
    {
     "name": "stdout",
     "output_type": "stream",
     "text": [
      "[[[-1.03365503 -0.77414867 -0.45237794  0.99226388  1.79292724]\n",
      "  [-0.30213482  0.20536299 -1.42829869  1.41748316 -0.23818226]\n",
      "  [-1.1054589  -1.12271279  0.13707877 -1.74011535 -0.34123831]]\n",
      "\n",
      " [[ 0.05359258  1.39871869  0.02409954  2.39843378 -0.57529365]\n",
      "  [-0.47997067  0.64679979 -0.88228293  1.4601854   0.34386062]\n",
      "  [-0.70941578 -0.55417259 -2.05011002  0.94858591 -0.01145194]]]\n"
     ]
    }
   ],
   "source": [
    "# your code here\n",
    "print(a)"
   ]
  },
  {
   "cell_type": "markdown",
   "metadata": {},
   "source": [
    "#### 5. Create a 5x2x3 3-dimensional array with all values equaling 1. Assign the array to variable *b*."
   ]
  },
  {
   "cell_type": "code",
   "execution_count": 21,
   "metadata": {},
   "outputs": [],
   "source": [
    "# your code here\n",
    "b=np.zeros((5,2,3))"
   ]
  },
  {
   "cell_type": "markdown",
   "metadata": {},
   "source": [
    "#### 6. Print *b*.\n"
   ]
  },
  {
   "cell_type": "code",
   "execution_count": 22,
   "metadata": {},
   "outputs": [
    {
     "name": "stdout",
     "output_type": "stream",
     "text": [
      "[[[0. 0. 0.]\n",
      "  [0. 0. 0.]]\n",
      "\n",
      " [[0. 0. 0.]\n",
      "  [0. 0. 0.]]\n",
      "\n",
      " [[0. 0. 0.]\n",
      "  [0. 0. 0.]]\n",
      "\n",
      " [[0. 0. 0.]\n",
      "  [0. 0. 0.]]\n",
      "\n",
      " [[0. 0. 0.]\n",
      "  [0. 0. 0.]]]\n"
     ]
    }
   ],
   "source": [
    "# your code here\n",
    "print(b)"
   ]
  },
  {
   "cell_type": "markdown",
   "metadata": {},
   "source": [
    "#### 7. Do *a* and *b* have the same size? How do you prove that in Python code?"
   ]
  },
  {
   "cell_type": "code",
   "execution_count": 24,
   "metadata": {},
   "outputs": [
    {
     "data": {
      "text/plain": [
       "True"
      ]
     },
     "execution_count": 24,
     "metadata": {},
     "output_type": "execute_result"
    }
   ],
   "source": [
    "# your code here\n",
    "b.size == a.size #output is true so a and b have the same size"
   ]
  },
  {
   "cell_type": "markdown",
   "metadata": {},
   "source": [
    "#### 8. Are you able to add *a* and *b*? Why or why not?\n"
   ]
  },
  {
   "cell_type": "code",
   "execution_count": 25,
   "metadata": {},
   "outputs": [
    {
     "data": {
      "text/plain": [
       "False"
      ]
     },
     "execution_count": 25,
     "metadata": {},
     "output_type": "execute_result"
    }
   ],
   "source": [
    "# your answer here\n",
    "#no because their shape are different\n",
    "b.shape == a.shape"
   ]
  },
  {
   "cell_type": "markdown",
   "metadata": {},
   "source": [
    "#### 9. Transpose *b* so that it has the same structure of *a* (i.e. become a 2x3x5 array). Assign the transposed array to variable *c*."
   ]
  },
  {
   "cell_type": "code",
   "execution_count": 30,
   "metadata": {},
   "outputs": [
    {
     "name": "stdout",
     "output_type": "stream",
     "text": [
      "[[[0. 0. 0. 0. 0.]\n",
      "  [0. 0. 0. 0. 0.]\n",
      "  [0. 0. 0. 0. 0.]]\n",
      "\n",
      " [[0. 0. 0. 0. 0.]\n",
      "  [0. 0. 0. 0. 0.]\n",
      "  [0. 0. 0. 0. 0.]]]\n"
     ]
    }
   ],
   "source": [
    "# your code here\n",
    "#transposing is not enough we have to reshape b\n",
    "c = b.reshape((2,3,5))\n",
    "print(c)"
   ]
  },
  {
   "cell_type": "markdown",
   "metadata": {},
   "source": [
    "#### 10. Try to add *a* and *c*. Now it should work. Assign the sum to variable *d*. But why does it work now?"
   ]
  },
  {
   "cell_type": "code",
   "execution_count": 31,
   "metadata": {},
   "outputs": [
    {
     "name": "stdout",
     "output_type": "stream",
     "text": [
      "[[[-1.03365503 -0.77414867 -0.45237794  0.99226388  1.79292724]\n",
      "  [-0.30213482  0.20536299 -1.42829869  1.41748316 -0.23818226]\n",
      "  [-1.1054589  -1.12271279  0.13707877 -1.74011535 -0.34123831]]\n",
      "\n",
      " [[ 0.05359258  1.39871869  0.02409954  2.39843378 -0.57529365]\n",
      "  [-0.47997067  0.64679979 -0.88228293  1.4601854   0.34386062]\n",
      "  [-0.70941578 -0.55417259 -2.05011002  0.94858591 -0.01145194]]]\n"
     ]
    }
   ],
   "source": [
    "# your code/answer here\n",
    "d=a+c\n",
    "print(d)\n",
    "#it works because we have the same shape, ie the same number on each dimension. "
   ]
  },
  {
   "cell_type": "markdown",
   "metadata": {},
   "source": [
    "#### 11. Print *a* and *d*. Notice the difference and relation of the two array in terms of the values? Explain."
   ]
  },
  {
   "cell_type": "code",
   "execution_count": 33,
   "metadata": {},
   "outputs": [
    {
     "name": "stdout",
     "output_type": "stream",
     "text": [
      "[[[-1.03365503 -0.77414867 -0.45237794  0.99226388  1.79292724]\n",
      "  [-0.30213482  0.20536299 -1.42829869  1.41748316 -0.23818226]\n",
      "  [-1.1054589  -1.12271279  0.13707877 -1.74011535 -0.34123831]]\n",
      "\n",
      " [[ 0.05359258  1.39871869  0.02409954  2.39843378 -0.57529365]\n",
      "  [-0.47997067  0.64679979 -0.88228293  1.4601854   0.34386062]\n",
      "  [-0.70941578 -0.55417259 -2.05011002  0.94858591 -0.01145194]]]\n",
      "[[[-1.03365503 -0.77414867 -0.45237794  0.99226388  1.79292724]\n",
      "  [-0.30213482  0.20536299 -1.42829869  1.41748316 -0.23818226]\n",
      "  [-1.1054589  -1.12271279  0.13707877 -1.74011535 -0.34123831]]\n",
      "\n",
      " [[ 0.05359258  1.39871869  0.02409954  2.39843378 -0.57529365]\n",
      "  [-0.47997067  0.64679979 -0.88228293  1.4601854   0.34386062]\n",
      "  [-0.70941578 -0.55417259 -2.05011002  0.94858591 -0.01145194]]]\n"
     ]
    }
   ],
   "source": [
    "# your code/answer here\n",
    "print(a)\n",
    "print(d)\n",
    "#there is no difference because we added an array full of zeros at a so it didn't change"
   ]
  },
  {
   "cell_type": "markdown",
   "metadata": {},
   "source": [
    "#### 12. Multiply *a* and *c*. Assign the result to *e*."
   ]
  },
  {
   "cell_type": "code",
   "execution_count": 34,
   "metadata": {},
   "outputs": [
    {
     "name": "stdout",
     "output_type": "stream",
     "text": [
      "[[[-0. -0. -0.  0.  0.]\n",
      "  [-0.  0. -0.  0. -0.]\n",
      "  [-0. -0.  0. -0. -0.]]\n",
      "\n",
      " [[ 0.  0.  0.  0. -0.]\n",
      "  [-0.  0. -0.  0.  0.]\n",
      "  [-0. -0. -0.  0. -0.]]]\n"
     ]
    }
   ],
   "source": [
    "# your code here\n",
    "e= a*c\n",
    "print(e)"
   ]
  },
  {
   "cell_type": "markdown",
   "metadata": {},
   "source": [
    "#### 13. Does *e* equal to *a*? Why or why not?\n"
   ]
  },
  {
   "cell_type": "code",
   "execution_count": null,
   "metadata": {},
   "outputs": [],
   "source": [
    "# your code/answer here\n",
    "#no because we multiplied each number of a by 0 so e is full of zeros"
   ]
  },
  {
   "cell_type": "markdown",
   "metadata": {},
   "source": [
    "#### 14. Identify the max, min, and mean values in *d*. Assign those values to variables *d_max*, *d_min* and *d_mean*."
   ]
  },
  {
   "cell_type": "code",
   "execution_count": null,
   "metadata": {},
   "outputs": [],
   "source": [
    "# your code here"
   ]
  },
  {
   "cell_type": "markdown",
   "metadata": {},
   "source": [
    "#### 15. Now we want to label the values in *d*. First create an empty array *f* with the same shape (i.e. 2x3x5) as *d* using `np.empty`.\n"
   ]
  },
  {
   "cell_type": "code",
   "execution_count": null,
   "metadata": {},
   "outputs": [],
   "source": [
    "# your code here"
   ]
  },
  {
   "cell_type": "markdown",
   "metadata": {},
   "source": [
    "#### 16. Populate the values in *f*. \n",
    "\n",
    "For each value in *d*, if it's larger than *d_min* but smaller than *d_mean*, assign 25 to the corresponding value in *f*. If a value in *d* is larger than *d_mean* but smaller than *d_max*, assign 75 to the corresponding value in *f*. If a value equals to *d_mean*, assign 50 to the corresponding value in *f*. Assign 0 to the corresponding value(s) in *f* for *d_min* in *d*. Assign 100 to the corresponding value(s) in *f* for *d_max* in *d*. In the end, f should have only the following values: 0, 25, 50, 75, and 100.\n",
    "\n",
    "**Note**: you don't have to use Numpy in this question."
   ]
  },
  {
   "cell_type": "code",
   "execution_count": 1,
   "metadata": {},
   "outputs": [],
   "source": [
    "# your code here"
   ]
  },
  {
   "cell_type": "markdown",
   "metadata": {},
   "source": [
    "#### 17. Print *d* and *f*. Do you have your expected *f*?\n",
    "For instance, if your *d* is:\n",
    "```python\n",
    "[[[1.85836099, 1.67064465, 1.62576044, 1.40243961, 1.88454931],\n",
    "[1.75354326, 1.69403643, 1.36729252, 1.61415071, 1.12104981],\n",
    "[1.72201435, 1.1862918 , 1.87078449, 1.7726778 , 1.88180042]],\n",
    "[[1.44747908, 1.31673383, 1.02000951, 1.52218947, 1.97066381],\n",
    "[1.79129243, 1.74983003, 1.96028037, 1.85166831, 1.65450881],\n",
    "[1.18068344, 1.9587381 , 1.00656599, 1.93402165, 1.73514584]]]\n",
    "```\n",
    "Your *f* should be:\n",
    "```python\n",
    "[[[ 75.,  75.,  75.,  25.,  75.],\n",
    "[ 75.,  75.,  25.,  25.,  25.],\n",
    "[ 75.,  25.,  75.,  75.,  75.]],\n",
    "[[ 25.,  25.,  25.,  25., 100.],\n",
    "[ 75.,  75.,  75.,  75.,  75.],\n",
    "[ 25.,  75.,   0.,  75.,  75.]]]\n",
    "```"
   ]
  },
  {
   "cell_type": "code",
   "execution_count": null,
   "metadata": {},
   "outputs": [],
   "source": [
    "# your code here"
   ]
  },
  {
   "cell_type": "markdown",
   "metadata": {},
   "source": [
    "#### 18. Bonus question: instead of using numbers (i.e. 0, 25, 50, 75, and 100), use string values  (\"A\", \"B\", \"C\", \"D\", and \"E\") to label the array elements. For the example above, the expected result is:\n",
    "\n",
    "```python\n",
    "[[[ 'D',  'D',  'D',  'B',  'D'],\n",
    "[ 'D',  'D',  'B',  'B',  'B'],\n",
    "[ 'D',  'B',  'D',  'D',  'D']],\n",
    "[[ 'B',  'B',  'B',  'B',  'E'],\n",
    "[ 'D',  'D',  'D',  'D',  'D'],\n",
    "[ 'B',  'D',   'A',  'D', 'D']]]\n",
    "```\n",
    "**Note**: you don't have to use Numpy in this question."
   ]
  },
  {
   "cell_type": "code",
   "execution_count": null,
   "metadata": {},
   "outputs": [],
   "source": [
    "# your code here"
   ]
  }
 ],
 "metadata": {
  "kernelspec": {
   "display_name": "Python 3 (ipykernel)",
   "language": "python",
   "name": "python3"
  },
  "language_info": {
   "codemirror_mode": {
    "name": "ipython",
    "version": 3
   },
   "file_extension": ".py",
   "mimetype": "text/x-python",
   "name": "python",
   "nbconvert_exporter": "python",
   "pygments_lexer": "ipython3",
   "version": "3.9.13"
  }
 },
 "nbformat": 4,
 "nbformat_minor": 2
}
