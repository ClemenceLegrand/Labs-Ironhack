{
 "cells": [
  {
   "cell_type": "code",
   "execution_count": 1,
   "id": "08217a0b",
   "metadata": {},
   "outputs": [],
   "source": [
    "#Consider an array/list of sheep where some sheep may be missing from their place. We need a function that counts the number of sheep present in the array (true means present)."
   ]
  },
  {
   "cell_type": "code",
   "execution_count": 12,
   "id": "91e82d2a",
   "metadata": {},
   "outputs": [],
   "source": [
    "def countsheep():\n",
    "    n=int(input(\"Enter the number of sheeps : \")) #the user can create a list of sheep, so here he can enter the total number of sheeps\n",
    "    presence_list=[]\n",
    "    for i in range(0,n):\n",
    "        presence=str(input(\"Is the sheep present ? enter true or false: \")) #here he enters which sheep is present or not\n",
    "        presence_list.append(presence) \n",
    "        i=i+1 #the loop permets to create the list\n",
    "    x=presence_list.count(\"true\") #the count function can count occurence in a list\n",
    "    print(x, \"sheeps are presents\") \n",
    "    \n",
    "        "
   ]
  },
  {
   "cell_type": "code",
   "execution_count": 13,
   "id": "0505e66a",
   "metadata": {},
   "outputs": [
    {
     "name": "stdout",
     "output_type": "stream",
     "text": [
      "Enter the number of sheeps : 4\n",
      "Is the sheep present ? enter true or false: true\n",
      "Is the sheep present ? enter true or false: false\n",
      "Is the sheep present ? enter true or false: true\n",
      "Is the sheep present ? enter true or false: false\n",
      "2 sheeps are presents\n"
     ]
    }
   ],
   "source": [
    "countsheep()"
   ]
  },
  {
   "cell_type": "code",
   "execution_count": 59,
   "id": "2b8624c9",
   "metadata": {},
   "outputs": [
    {
     "data": {
      "text/plain": [
       "['Keep', 'Keep', 'Keep', 'Keep']"
      ]
     },
     "execution_count": 59,
     "metadata": {},
     "output_type": "execute_result"
    }
   ],
   "source": [
    "#Take an array and remove every second element from the array. \n",
    "#Always keep the first element and start removing with the next element.\n",
    "\n",
    "\n",
    "def remove_second(array):\n",
    "    #the result will be in a new list so we create an empty list\n",
    "    new_array=[]\n",
    "    #this new list will store the elements we don't want to remove \n",
    "    #this way we can do a simple loop with a step of two to keep 1 upon 2 element stored in the new list\n",
    "    for i in range(0, len(array),2) :  \n",
    "        new_array.append(array[i])\n",
    "    return (new_array)\n",
    "\n",
    "array=[\"Keep\", \"Remove\", \"Keep\", \"Remove\", \"Keep\", \"Remove\", \"Keep\", \"Remove\"]\n",
    "remove_second(array)"
   ]
  },
  {
   "cell_type": "code",
   "execution_count": 94,
   "id": "a39f824f",
   "metadata": {},
   "outputs": [
    {
     "name": "stdout",
     "output_type": "stream",
     "text": [
      "['1', '5', '4', '6', '8', '9']\n"
     ]
    }
   ],
   "source": [
    "#Given a random non-negative number, you have to return the digits of this number within an array in reverse order.\n",
    "def reversearray(x):\n",
    "    x=str(x)                                    #to make sure x is a string so we can use a loop to create a list \n",
    "    list_digit=[]                               #we create an empty list \n",
    "    for i in x:\n",
    "        list_digit.append(i)                    #each element of the string x is stored in the new list \n",
    "    result=[]\n",
    "    for i in range(1,len(list_digit)+1):        #the range begins at 1 because we will use the negative index to reverse the list\n",
    "        result.append(list_digit[-i])           \n",
    "    print(result)\n",
    "reversearray(986451)"
   ]
  },
  {
   "cell_type": "code",
   "execution_count": 78,
   "id": "0920a500",
   "metadata": {},
   "outputs": [],
   "source": [
    "#In this kata, you are asked to square every digit of a number and concatenate them.\n",
    "def sq_eachdigit(x):\n",
    "    \n",
    "    #I transform x into a list to split each digit of the number x \n",
    "    x=str(x)\n",
    "    list_digit=[]\n",
    "    for i in x:\n",
    "        list_digit.append(int(i))  \n",
    "        \n",
    "    #I calculate the square of each digit and I store them into a list\n",
    "    squares=[]\n",
    "    for i in list_digit:\n",
    "        squares.append(str(i**2))  \n",
    "    \n",
    "    #I join the list to recreate a string\n",
    "    result=\"\".join(squares)        \n",
    "    print(result)"
   ]
  },
  {
   "cell_type": "code",
   "execution_count": 79,
   "id": "e0e601b8",
   "metadata": {},
   "outputs": [
    {
     "name": "stdout",
     "output_type": "stream",
     "text": [
      "49254\n"
     ]
    }
   ],
   "source": [
    "sq_eachdigit(752)"
   ]
  },
  {
   "cell_type": "code",
   "execution_count": 108,
   "id": "0cba7064",
   "metadata": {},
   "outputs": [],
   "source": [
    "#method .count_spec_digits()\n",
    "def count_spec_digits(integersList, digitsList):\n",
    "    import re\n",
    "    l=[] #to store the tuples results\n",
    "    for i in digitsList : \n",
    "        result=re.findall(str(i),str(integersList)) \n",
    "        l.append((i,len(result)))\n",
    "    print(l)"
   ]
  },
  {
   "cell_type": "code",
   "execution_count": 109,
   "id": "1e768c0a",
   "metadata": {},
   "outputs": [
    {
     "name": "stdout",
     "output_type": "stream",
     "text": [
      "[(1, 0), (8, 0), (4, 0)]\n"
     ]
    }
   ],
   "source": [
    "integersList = [-77, -65, 56, -79, 6666, 222]\n",
    "digitsList = [1, 8, 4]\n",
    "count_spec_digits(integersList,digitsList)"
   ]
  },
  {
   "cell_type": "code",
   "execution_count": 111,
   "id": "8f4c7863",
   "metadata": {},
   "outputs": [
    {
     "name": "stdout",
     "output_type": "stream",
     "text": [
      "[(1, 7), (8, 5), (4, 0)]\n"
     ]
    }
   ],
   "source": [
    "integersList = [-18, -31, 81, -19, 111, -888]\n",
    "digitsList = [1, 8, 4]\n",
    "count_spec_digits(integersList,digitsList)"
   ]
  },
  {
   "cell_type": "code",
   "execution_count": null,
   "id": "ee9a23c6",
   "metadata": {},
   "outputs": [],
   "source": []
  }
 ],
 "metadata": {
  "kernelspec": {
   "display_name": "Python 3 (ipykernel)",
   "language": "python",
   "name": "python3"
  },
  "language_info": {
   "codemirror_mode": {
    "name": "ipython",
    "version": 3
   },
   "file_extension": ".py",
   "mimetype": "text/x-python",
   "name": "python",
   "nbconvert_exporter": "python",
   "pygments_lexer": "ipython3",
   "version": "3.9.13"
  }
 },
 "nbformat": 4,
 "nbformat_minor": 5
}
