{
 "cells": [
  {
   "cell_type": "markdown",
   "metadata": {},
   "source": [
    "# Loops\n",
    "\n",
    "Complete the following set of exercises to solidify your knowledge for Loops."
   ]
  },
  {
   "cell_type": "markdown",
   "metadata": {},
   "source": [
    "#### 1. Print first 10 natural numbers using while loop"
   ]
  },
  {
   "cell_type": "code",
   "execution_count": 5,
   "metadata": {},
   "outputs": [
    {
     "name": "stdout",
     "output_type": "stream",
     "text": [
      "1\n",
      "2\n",
      "3\n",
      "4\n",
      "5\n",
      "6\n",
      "7\n",
      "8\n",
      "9\n",
      "10\n"
     ]
    }
   ],
   "source": [
    "i=0\n",
    "while i <10:\n",
    "    i=i+1\n",
    "    print(i)"
   ]
  },
  {
   "cell_type": "markdown",
   "metadata": {},
   "source": [
    "#### 2. Display numbers from a list using loop\n",
    "Write a program to display only those numbers from a list that satisfy the following conditions\n",
    "\n",
    "The number must be divisible by five\n",
    "\n",
    "If the number is greater than 150, then skip it and move to the next number\n",
    "\n",
    "If the number is greater than 500, then stop the loop\n",
    "\n",
    "numbers = [12, 75, 150, 180, 145, 525, 50]"
   ]
  },
  {
   "cell_type": "code",
   "execution_count": 7,
   "metadata": {},
   "outputs": [
    {
     "name": "stdout",
     "output_type": "stream",
     "text": [
      "[75, 145]\n"
     ]
    }
   ],
   "source": [
    "numbers = [12, 75, 150, 180, 145, 525, 50]\n",
    "display_list=[]\n",
    "for i in numbers : \n",
    "    if i%5==0:\n",
    "        if i<150:\n",
    "            display_list.append(i)\n",
    "        elif i>500: \n",
    "            break\n",
    "print(display_list)\n",
    "    "
   ]
  },
  {
   "cell_type": "markdown",
   "metadata": {},
   "source": [
    "#### 3.Write a Python program to check the validity of a password (input from users).\n",
    "\n",
    "Validation :\n",
    "\n",
    "At least 1 letter between [a-z] and 1 letter between [A-Z].\n",
    "\n",
    "At least 1 number between [0-9].\n",
    "\n",
    "At least 1 character from [$#@].\n",
    "\n",
    "Minimum length 6 characters.\n",
    "\n",
    "Maximum length 16 characters."
   ]
  },
  {
   "cell_type": "code",
   "execution_count": 11,
   "metadata": {},
   "outputs": [
    {
     "name": "stdout",
     "output_type": "stream",
     "text": [
      "Please enter your password : clemenceL06@\n",
      "Password is valid\n"
     ]
    }
   ],
   "source": [
    "import re\n",
    "password = str(input(\"Please enter your password : \"))\n",
    "if len(password) >6:\n",
    "    if len(password) <16 : \n",
    "        if re.search(r\"[$#@]{1,}\",password): \n",
    "            if re.search(r\"[a-z]{1,}\",password): \n",
    "                if re.search(r\"[A-Z]{1,}\",password): \n",
    "                    if re.search(r\"[0-9]{1,}\",password) : \n",
    "                        print(\"Password is valid\")\n",
    "                    else : \n",
    "                        print(\"Passeword is not valid\")\n",
    "                else : \n",
    "                    print(\"Passeword is not valid\")\n",
    "            else : \n",
    "                print(\"Passeword is not valid\")\n",
    "        else : \n",
    "            print(\"Passeword is not valid\")\n",
    "    else : \n",
    "        print(\"Passeword is not valid\")\n",
    "else :\n",
    "    print(\"Passeword is not valid\")\n",
    "        "
   ]
  },
  {
   "cell_type": "markdown",
   "metadata": {},
   "source": [
    "#### 4. Break the loop when x is 6, and see what happens with the else block"
   ]
  },
  {
   "cell_type": "code",
   "execution_count": 19,
   "metadata": {},
   "outputs": [
    {
     "name": "stdout",
     "output_type": "stream",
     "text": [
      "0\n",
      "1\n",
      "2\n",
      "3\n",
      "4\n",
      "5\n"
     ]
    }
   ],
   "source": [
    "i=0\n",
    "for i in range(0,10) : \n",
    "    print(i)\n",
    "    i=i+1\n",
    "    if i==6: \n",
    "        break"
   ]
  },
  {
   "cell_type": "markdown",
   "metadata": {},
   "source": [
    "#### 5. Write a Python program to calculate the sum and average of n integer numbers (input from the user). Input 0 to finish.\n"
   ]
  },
  {
   "cell_type": "code",
   "execution_count": 22,
   "metadata": {},
   "outputs": [
    {
     "name": "stdout",
     "output_type": "stream",
     "text": [
      "Please enter the number of integer numbers you want to sum and average : 4\n",
      "Please enter an integer number: 2\n",
      "Please enter an integer number: 3\n",
      "Please enter an integer number: 2\n",
      "Please enter an integer number: 3\n",
      "The sum is  10\n",
      "The average is 2.5\n"
     ]
    }
   ],
   "source": [
    "n=int(input(\"Please enter the number of integer numbers you want to sum and average : \"))\n",
    "list_numbers=[]\n",
    "for i in range(1,n+1):\n",
    "    x=int(input(\"Please enter an integer number: \"))\n",
    "    list_numbers.append(x)\n",
    "    i=i+1\n",
    "print(\"The sum is \",sum(list_numbers))\n",
    "print(\"The average is\", sum(list_numbers)/n)\n",
    "    \n",
    "    \n"
   ]
  },
  {
   "cell_type": "code",
   "execution_count": null,
   "metadata": {},
   "outputs": [],
   "source": []
  }
 ],
 "metadata": {
  "kernelspec": {
   "display_name": "Python 3 (ipykernel)",
   "language": "python",
   "name": "python3"
  },
  "language_info": {
   "codemirror_mode": {
    "name": "ipython",
    "version": 3
   },
   "file_extension": ".py",
   "mimetype": "text/x-python",
   "name": "python",
   "nbconvert_exporter": "python",
   "pygments_lexer": "ipython3",
   "version": "3.9.13"
  }
 },
 "nbformat": 4,
 "nbformat_minor": 2
}
