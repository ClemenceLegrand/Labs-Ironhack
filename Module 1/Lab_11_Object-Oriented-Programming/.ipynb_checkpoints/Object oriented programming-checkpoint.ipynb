{
 "cells": [
  {
   "cell_type": "code",
   "execution_count": 1,
   "id": "988aaea4",
   "metadata": {},
   "outputs": [
    {
     "name": "stdout",
     "output_type": "stream",
     "text": [
      "{1, 2, 3, 4}\n",
      "{1, 3}\n"
     ]
    }
   ],
   "source": [
    "#Define a method/function that removes from a given array of integers all the values contained in a second array.\n",
    "\n",
    "#I try to build the function using the set properties\n",
    "lst1=[1, 1, 2, 3, 1, 2, 3, 4]\n",
    "lst2=[1, 3]\n",
    "set1=set(lst1)\n",
    "set2=set(lst2)\n",
    "print(set1)\n",
    "print(set2)"
   ]
  },
  {
   "cell_type": "code",
   "execution_count": 4,
   "id": "510cbd5d",
   "metadata": {},
   "outputs": [
    {
     "name": "stdout",
     "output_type": "stream",
     "text": [
      "{2, 4}\n"
     ]
    }
   ],
   "source": [
    "setresult=set1.symmetric_difference(set2)\n",
    "print(setresult)"
   ]
  },
  {
   "cell_type": "code",
   "execution_count": 6,
   "id": "f74424c8",
   "metadata": {},
   "outputs": [
    {
     "name": "stdout",
     "output_type": "stream",
     "text": [
      "[2, 4]\n"
     ]
    }
   ],
   "source": [
    "result=list(setresult)\n",
    "print(result)"
   ]
  },
  {
   "cell_type": "code",
   "execution_count": 7,
   "id": "f64dce25",
   "metadata": {},
   "outputs": [],
   "source": [
    "def comparaison(lst1,lst2):\n",
    "    set1=set(lst1)\n",
    "    set2=set(lst2)\n",
    "    setresult=set1.symmetric_difference(set2)\n",
    "    result=list(setresult)\n",
    "    print(result)"
   ]
  },
  {
   "cell_type": "code",
   "execution_count": 8,
   "id": "567e2084",
   "metadata": {},
   "outputs": [
    {
     "name": "stdout",
     "output_type": "stream",
     "text": [
      "[8, 5, 6, 7]\n"
     ]
    }
   ],
   "source": [
    "lst1=[1, 1, 2, 3, 1, 2, 3, 4, 4, 3, 5, 6, 7, 2, 8]\n",
    "lst2=[1, 3, 4, 2]\n",
    "comparaison(lst1,lst2)"
   ]
  },
  {
   "cell_type": "code",
   "execution_count": 9,
   "id": "735797bc",
   "metadata": {},
   "outputs": [],
   "source": [
    "#method .count_spec_digits()\n",
    "def count_spec_digits(integersList, digitsList):\n",
    "    import re\n",
    "    l=[] \n",
    "    for i in digitsList : \n",
    "        result=re.findall(str(i),str(integersList)) \n",
    "        l.append((i,len(result)))\n",
    "    print(l)"
   ]
  },
  {
   "cell_type": "code",
   "execution_count": 10,
   "id": "6b7310ea",
   "metadata": {},
   "outputs": [
    {
     "name": "stdout",
     "output_type": "stream",
     "text": [
      "[(1, 0), (8, 0), (4, 0)]\n"
     ]
    }
   ],
   "source": [
    "integersList = [-77, -65, 56, -79, 6666, 222]\n",
    "digitsList = [1, 8, 4]\n",
    "count_spec_digits(integersList,digitsList)"
   ]
  },
  {
   "cell_type": "code",
   "execution_count": 19,
   "id": "d877da96",
   "metadata": {},
   "outputs": [],
   "source": [
    "#Count the number of occurrences of each character and return it as a (list of tuples) in order of appearance. \n",
    "#For empty output return (an empty list).\n",
    "x=\"abracadabra\"\n",
    "def occurence_letter(x):\n",
    "    x=str(x)\n",
    "    lst=list(x)\n",
    "    used_char=[]                     #we create an empty list to store the letter already pass in the loop so we don't have doublons in the result\n",
    "    result=[]\n",
    "    for i in lst:\n",
    "        if i not in used_char:\n",
    "            j=lst.count(i)\n",
    "            used_char.append(i)\n",
    "            result.append((i,j))\n",
    "        else:\n",
    "            continue\n",
    "    \n",
    "    print(result)\n",
    "    \n"
   ]
  },
  {
   "cell_type": "code",
   "execution_count": 20,
   "id": "cb59035a",
   "metadata": {},
   "outputs": [
    {
     "name": "stdout",
     "output_type": "stream",
     "text": [
      "[('a', 5), ('b', 2), ('r', 2), ('c', 1), ('d', 1)]\n"
     ]
    }
   ],
   "source": [
    "x=\"abracadabra\"\n",
    "occurence_letter(x)"
   ]
  },
  {
   "cell_type": "code",
   "execution_count": 21,
   "id": "2e18d0d4",
   "metadata": {},
   "outputs": [
    {
     "name": "stdout",
     "output_type": "stream",
     "text": [
      "[]\n"
     ]
    }
   ],
   "source": [
    "x=\"\"\n",
    "occurence_letter(x)"
   ]
  },
  {
   "cell_type": "code",
   "execution_count": null,
   "id": "00c69ea1",
   "metadata": {},
   "outputs": [],
   "source": []
  }
 ],
 "metadata": {
  "kernelspec": {
   "display_name": "Python 3 (ipykernel)",
   "language": "python",
   "name": "python3"
  },
  "language_info": {
   "codemirror_mode": {
    "name": "ipython",
    "version": 3
   },
   "file_extension": ".py",
   "mimetype": "text/x-python",
   "name": "python",
   "nbconvert_exporter": "python",
   "pygments_lexer": "ipython3",
   "version": "3.9.13"
  }
 },
 "nbformat": 4,
 "nbformat_minor": 5
}
