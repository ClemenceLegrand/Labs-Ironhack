{
 "cells": [
  {
   "cell_type": "code",
   "execution_count": 1,
   "id": "b48a6062",
   "metadata": {},
   "outputs": [],
   "source": [
    "import requests"
   ]
  },
  {
   "cell_type": "code",
   "execution_count": 3,
   "id": "b2da9724",
   "metadata": {},
   "outputs": [
    {
     "data": {
      "text/plain": [
       "{'Connection': 'keep-alive', 'Content-Length': '3039', 'Server': 'nginx', 'Content-Type': 'text/html; charset=UTF-8', 'Last-Modified': 'Tue, 24 Jan 2023 05:08:14 GMT', 'ETag': 'W/\"63cf67be-1e2f\"', 'Expires': 'Wed, 25 Jan 2023 03:56:40 GMT', 'Cache-Control': 'max-age=300', 'Content-Encoding': 'gzip', 'Via': '1.1 varnish, 1.1 varnish', 'Accept-Ranges': 'bytes', 'Date': 'Wed, 25 Jan 2023 11:19:54 GMT', 'Age': '146', 'X-Served-By': 'cache-dfw-kdfw8210070-DFW, cache-cdg20745-CDG', 'X-Cache': 'HIT, HIT', 'X-Cache-Hits': '9, 1', 'X-Timer': 'S1674645595.916924,VS0,VE1', 'Vary': 'Accept-Encoding'}"
      ]
     },
     "execution_count": 3,
     "metadata": {},
     "output_type": "execute_result"
    }
   ],
   "source": [
    "response= requests.get(\"https://xkcd.com\")\n",
    "response.headers"
   ]
  },
  {
   "cell_type": "raw",
   "id": "17a296e0",
   "metadata": {},
   "source": []
  }
 ],
 "metadata": {
  "kernelspec": {
   "display_name": "Python 3 (ipykernel)",
   "language": "python",
   "name": "python3"
  },
  "language_info": {
   "codemirror_mode": {
    "name": "ipython",
    "version": 3
   },
   "file_extension": ".py",
   "mimetype": "text/x-python",
   "name": "python",
   "nbconvert_exporter": "python",
   "pygments_lexer": "ipython3",
   "version": "3.9.13"
  }
 },
 "nbformat": 4,
 "nbformat_minor": 5
}
